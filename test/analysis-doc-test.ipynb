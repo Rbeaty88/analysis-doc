{
 "metadata": {
  "name": "analysis-doc-test"
 },
 "nbformat": 3,
 "nbformat_minor": 0,
 "worksheets": [
  {
   "cells": [
    {
     "cell_type": "code",
     "collapsed": false,
     "input": [
      "import os, sys\n",
      "sys.path[0]='../git/analysis-doc'\n",
      "os.chdir('../test_plotting')"
     ],
     "language": "python",
     "metadata": {},
     "outputs": [],
     "prompt_number": 1
    },
    {
     "cell_type": "code",
     "collapsed": false,
     "input": [
      "from analyze import analysis_base; reload(analysis_base)"
     ],
     "language": "python",
     "metadata": {},
     "outputs": [
      {
       "output_type": "pyout",
       "prompt_number": 2,
       "text": [
        "<module 'analyze.analysis_base' from '../git/analysis-doc\\analyze\\analysis_base.pyc'>"
       ]
      }
     ],
     "prompt_number": 2
    },
    {
     "cell_type": "code",
     "collapsed": false,
     "input": [
      "from analyze import demo; print reload(demo)\n",
      "x = demo.Demo('../test_plotting')\n",
      "x.plot_1()"
     ],
     "language": "python",
     "metadata": {},
     "outputs": [
      {
       "output_type": "stream",
       "stream": "stdout",
       "text": [
        "<module 'analyze.demo' from '../git/analysis-doc\\analyze\\demo.pyc'>\n"
       ]
      },
      {
       "output_type": "pyout",
       "prompt_number": 3,
       "text": [
        "<matplotlib.figure.Figure at 0x7e0c588>"
       ]
      }
     ],
     "prompt_number": 3
    },
    {
     "cell_type": "code",
     "collapsed": false,
     "input": [
      "x.all_plots()"
     ],
     "language": "python",
     "metadata": {},
     "outputs": [
      {
       "output_type": "stream",
       "stream": "stdout",
       "text": [
        "saved plot to plots\\demo\\plot_1_test_plotting.png\n",
        "saved html doc to C:\\Users\\burnett\\SkyDrive\\test_plotting\\plots\\demo\\plot_1_test_plotting.html\n",
        "saved html doc to C:\\Users\\burnett\\SkyDrive\\test_plotting\\plots\\demo\\text_test_plotting.html\n",
        "saved html doc to plots\\demo\\index.html\n"
       ]
      }
     ],
     "prompt_number": 4
    },
    {
     "cell_type": "code",
     "collapsed": false,
     "input": [
      "from analyze import _html; reload(_html)\n",
      "_html.HTMLindex().create_menu()"
     ],
     "language": "python",
     "metadata": {},
     "outputs": [
      {
       "output_type": "stream",
       "stream": "stdout",
       "text": [
        "wrote plots/config/index.html\n",
        "wrote menu C:\\Users\\burnett\\SkyDrive\\test_plotting\\plot_index.html\n",
        "wrote menu C:\\Users\\burnett\\SkyDrive\\test_plotting\\plots/index.html\n"
       ]
      }
     ],
     "prompt_number": 5
    },
    {
     "cell_type": "code",
     "collapsed": false,
     "input": [],
     "language": "python",
     "metadata": {},
     "outputs": []
    }
   ],
   "metadata": {}
  }
 ]
}