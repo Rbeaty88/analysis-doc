{
 "metadata": {
  "name": "analysis-doc-test.ipynb"
 },
 "nbformat": 3,
 "nbformat_minor": 0,
 "worksheets": [
  {
   "cells": [
    {
     "cell_type": "markdown",
     "metadata": {},
     "source": [
      "##Test the analysis-doc git project"
     ]
    },
    {
     "cell_type": "code",
     "collapsed": false,
     "input": [
      "# set up python's path to parent folder, which should have an analyze package\n",
      "import os, sys\n",
      "sys.path[0]='../'"
     ],
     "language": "python",
     "metadata": {},
     "outputs": [],
     "prompt_number": 1
    },
    {
     "cell_type": "code",
     "collapsed": false,
     "input": [
      "from analyze import demo; print reload(demo)\n",
      "x = demo.Demo('.')\n",
      "x.plot_1();"
     ],
     "language": "python",
     "metadata": {},
     "outputs": [
      {
       "output_type": "stream",
       "stream": "stdout",
       "text": [
        "<module 'analyze.demo' from '../analyze\\demo.pyc'>\n"
       ]
      },
      {
       "output_type": "display_data",
       "png": "[encoded data removed]",
       "text": [
        "<matplotlib.figure.Figure at 0x7fb7a58>"
       ]
      }
     ],
     "prompt_number": 11
    },
    {
     "cell_type": "code",
     "collapsed": false,
     "input": [
      "#Generate all plots\n",
      "x.all_plots(); plt.close('all')"
     ],
     "language": "python",
     "metadata": {},
     "outputs": [
      {
       "output_type": "stream",
       "stream": "stdout",
       "text": [
        "saved plot to plots\\demo\\plot_1_test.png\n",
        "saved html doc to c:\\users\\burnett\\skydrive\\git\\analysis-doc\\test\\plots\\demo\\plot_1_test.html\n",
        "saved html doc to c:\\users\\burnett\\skydrive\\git\\analysis-doc\\test\\plots\\demo\\text_test.html\n",
        "saved html doc to plots\\demo\\index.html\n"
       ]
      }
     ],
     "prompt_number": 10
    },
    {
     "cell_type": "code",
     "collapsed": false,
     "input": [
      "#need a better way to update the menus\n",
      "from analyze import _html; reload(_html)\n",
      "_html.HTMLindex().create_menu()"
     ],
     "language": "python",
     "metadata": {},
     "outputs": [
      {
       "output_type": "stream",
       "stream": "stdout",
       "text": [
        "wrote plots/config/index.html\n",
        "wrote menu c:\\users\\burnett\\skydrive\\git\\analysis-doc\\test\\plot_index.html\n",
        "wrote menu c:\\users\\burnett\\skydrive\\git\\analysis-doc\\test\\plots/index.html\n"
       ]
      }
     ],
     "prompt_number": 4
    },
    {
     "cell_type": "code",
     "collapsed": false,
     "input": [],
     "language": "python",
     "metadata": {},
     "outputs": [],
     "prompt_number": 4
    }
   ],
   "metadata": {}
  }
 ]
}